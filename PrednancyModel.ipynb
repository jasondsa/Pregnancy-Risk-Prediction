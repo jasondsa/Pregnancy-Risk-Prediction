{
  "nbformat": 4,
  "nbformat_minor": 0,
  "metadata": {
    "colab": {
      "provenance": [],
      "gpuType": "V28"
    },
    "kernelspec": {
      "name": "python3",
      "display_name": "Python 3"
    },
    "language_info": {
      "name": "python"
    },
    "accelerator": "TPU"
  },
  "cells": [
    {
      "cell_type": "code",
      "execution_count": null,
      "metadata": {
        "colab": {
          "base_uri": "https://localhost:8080/"
        },
        "id": "tJfeEiQZxKCk",
        "outputId": "aa48cd5c-8610-4e15-d41b-4ae48796a594"
      },
      "outputs": [
        {
          "output_type": "stream",
          "name": "stderr",
          "text": [
            "WARNING:tensorflow:Compiled the loaded model, but the compiled metrics have yet to be built. `model.compile_metrics` will be empty until you train or evaluate the model.\n"
          ]
        }
      ],
      "source": [
        "import pickle\n",
        "from sklearn.pipeline import Pipeline\n",
        "from sklearn.preprocessing import StandardScaler, OneHotEncoder\n",
        "from sklearn.compose import ColumnTransformer\n",
        "from tensorflow.keras.models import Sequential\n",
        "from tensorflow.keras.layers import Dense\n",
        "\n",
        "# Define preprocessing pipeline\n",
        "num_features = [\"Age\", \"Weight\", \"Height\", \"Gestational Age\", \"systolic blood pressure\",\n",
        "                \"diastolic blood pressure\", \"Heart Rate\", \"Glucose Level\"]\n",
        "cat_features = [\"Pre-existing Conditions\", \"Diet Quality\", \"Exercise Level\",\n",
        "                \"Smoking Status\", \"Mother’s Education\"]\n",
        "\n",
        "num_transformer = Pipeline(steps=[\n",
        "    (\"scaler\", StandardScaler())\n",
        "])\n",
        "cat_transformer = Pipeline(steps=[\n",
        "    (\"onehot\", OneHotEncoder(handle_unknown=\"ignore\"))\n",
        "])\n",
        "\n",
        "preprocessor = ColumnTransformer(transformers=[\n",
        "    (\"num\", num_transformer, num_features),\n",
        "    (\"cat\", cat_transformer, cat_features)\n",
        "])\n",
        "\n",
        "# Save the preprocessing pipeline\n",
        "with open(\"preprocessor.pkl\", \"wb\") as f:\n",
        "    pickle.dump(preprocessor, f)\n",
        "\n",
        "# Define a sample model (replace with actual training process)\n",
        "model = Sequential([\n",
        "    Dense(64, activation=\"relu\", input_shape=(100,)),  # Adjust input shape\n",
        "    Dense(1, activation=\"sigmoid\")\n",
        "])\n",
        "\n",
        "# Save the model\n",
        "model.save(\"pregnancy_risk_model.h5\")\n"
      ]
    },
    {
      "cell_type": "markdown",
      "source": [],
      "metadata": {
        "id": "HIIPMtmYwpuo"
      }
    },
    {
      "cell_type": "code",
      "source": [
        "import pickle\n",
        "import pandas as pd\n",
        "from tensorflow.keras.models import load_model\n",
        "\n",
        "# Load the preprocessing pipeline\n",
        "with open(\"preprocessor.pkl\", \"rb\") as f:\n",
        "    loaded_preprocessor = pickle.load(f)\n",
        "\n",
        "# Load the trained deep learning model\n",
        "loaded_model = load_model(\"pregnancy_risk_model.h5\")\n",
        "\n",
        "# Prediction function\n",
        "def predict_pregnancy_risk(\n",
        "    age, weight, height, gestational_age, systolic_bp, diastolic_bp,\n",
        "    heart_rate, glucose_level, pre_existing_conditions,\n",
        "    diet_quality, exercise_level, smoking_status, mothers_education):\n",
        "\n",
        "    # Create a DataFrame with input values\n",
        "    input_data = pd.DataFrame({\n",
        "        \"Age\": [age],\n",
        "        \"Weight\": [weight],\n",
        "        \"Height\": [height],\n",
        "        \"Gestational Age\": [gestational_age],\n",
        "        \"systolic blood pressure\": [systolic_bp],\n",
        "        \"diastolic blood pressure\": [diastolic_bp],\n",
        "        \"Heart Rate\": [heart_rate],\n",
        "        \"Glucose Level\": [glucose_level],\n",
        "        \"Pre-existing Conditions\": [pre_existing_conditions],\n",
        "        \"Diet Quality\": [diet_quality],\n",
        "        \"Exercise Level\": [exercise_level],\n",
        "        \"Smoking Status\": [smoking_status],\n",
        "        \"Mother’s Education\": [mothers_education]\n",
        "    })\n",
        "\n",
        "    # Preprocess input data\n",
        "    input_transformed = loaded_preprocessor.transform(input_data)\n",
        "\n",
        "    # Predict\n",
        "    prediction = loaded_model.predict(input_transformed)\n",
        "    risk = \"High Risk\" if prediction[0][0] > 0.5 else \"Low Risk\"\n",
        "\n",
        "    return f\"Prediction: {risk} ({prediction[0][0]:.2f})\"\n",
        "\n",
        "# Example usage\n",
        "# print(predict_pregnancy_risk(28, 70, 165, 20, 120, 80, 72, 90, \"None\", \"Good\", \"Moderate\", \"Non-smoker\", \"College Graduate\"))\n"
      ],
      "metadata": {
        "colab": {
          "base_uri": "https://localhost:8080/"
        },
        "id": "xBPi6PGRwqNv",
        "outputId": "e79d4b87-6b40-4295-a0ee-6033f86d5b91"
      },
      "execution_count": null,
      "outputs": [
        {
          "output_type": "stream",
          "name": "stderr",
          "text": [
            "WARNING:tensorflow:No training configuration found in the save file, so the model was *not* compiled. Compile it manually.\n"
          ]
        }
      ]
    }
  ]
}